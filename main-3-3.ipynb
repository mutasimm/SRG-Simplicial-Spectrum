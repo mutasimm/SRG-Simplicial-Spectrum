{
 "cells": [
  {
   "cell_type": "code",
   "execution_count": 1,
   "metadata": {
    "scrolled": true
   },
   "outputs": [],
   "source": [
    "import numpy as np, matplotlib.pyplot as plt\n",
    "from itertools import combinations, product"
   ]
  },
  {
   "cell_type": "code",
   "execution_count": 40,
   "metadata": {},
   "outputs": [],
   "source": [
    "def sig(F,K):\n",
    "    '''\n",
    "    Computes [F:K] with natural ordering, does not take into account the orientation of each simplex.\n",
    "    '''\n",
    "    F, K = sorted(F), sorted(K)\n",
    "    if len(F) == len(K)+1 and set(F).union(set(K))==set(F):\n",
    "        c = list((set(F)-set(K)))[0]\n",
    "        if F.index(c) % 2 == 0:\n",
    "            return 1\n",
    "        else:\n",
    "            return -1\n",
    "    else:\n",
    "        return 0\n",
    "    \n",
    "def coboundary(X,l):\n",
    "    '''\n",
    "    The l^{th} coboundar map, returns -1 if not defined. The input X is a list of lists on groud set [n].\n",
    "    '''\n",
    "    C = sorted([simplex for simplex in X if len(simplex)==l+1])\n",
    "    R = sorted([simplex for simplex in X if len(simplex)==l+2])\n",
    "    if len(C)==0 or len(R)==0 or l < -1:\n",
    "        return None\n",
    "    r, c = len(R), len(C)\n",
    "    M = []\n",
    "    for i in range(r):\n",
    "        RR = []\n",
    "        for j in range(c):\n",
    "            #print(R[i], C[j], sig(R[i],C[j]))\n",
    "            RR.append(sig(R[i],C[j]))\n",
    "        M.append(RR)\n",
    "    return np.array(M)\n",
    "\n",
    "def boundary(X,l):\n",
    "    M = coboundary(X,l-1)\n",
    "    if M is None:\n",
    "        return M\n",
    "    return M.T"
   ]
  },
  {
   "cell_type": "code",
   "execution_count": 5,
   "metadata": {},
   "outputs": [],
   "source": [
    "def cliques(G):\n",
    "    '''\n",
    "    getting a hold on the cliques of a graph\n",
    "    '''\n",
    "    C = set()\n",
    "    max_cliques = sage.graphs.cliquer.all_cliques(G,min_size=1)\n",
    "    for max_clique in max_cliques:\n",
    "        for subset in power_set(max_clique):\n",
    "           C.add(subset)\n",
    "    return sorted(list(C))\n",
    "\n",
    "def power_set(S):\n",
    "    '''\n",
    "    utility function\n",
    "    '''\n",
    "    power_s = set()\n",
    "    for i in range(len(S)+1):\n",
    "        for subset in combinations(S,i):\n",
    "            power_s.add(subset)\n",
    "    return power_s"
   ]
  },
  {
   "cell_type": "code",
   "execution_count": 48,
   "metadata": {},
   "outputs": [],
   "source": [
    "def lu_spectrum(G,l):\n",
    "    '''\n",
    "    The l^{th} up-laplacian spectrum of graph G, input should be Sagemath's graph object.\n",
    "    '''\n",
    "    A = coboundary(cliques(G),l)\n",
    "    if A is None:\n",
    "        return A\n",
    "    eigvals = np.around(np.linalg.eigvals(A.T.dot(A)),3)\n",
    "    e, c = np.unique(eigvals,return_counts=True)\n",
    "    e = [np.linalg.norm(entry) for entry in e]\n",
    "    return [list(e), list(c)]\n",
    "    #return eigvals\n",
    "\n",
    "def ll_spectrum(G,l):\n",
    "    '''\n",
    "    See lu_spectrum() for details.\n",
    "    '''\n",
    "    l -= 1\n",
    "    A = coboundary(cliques(G),l)\n",
    "    if A is None:\n",
    "        return A\n",
    "    eigvals = np.around(np.linalg.eigvals(A.dot(A.T)),2)\n",
    "    e, c = np.unique(eigvals,return_counts=True)\n",
    "    e = [np.linalg.norm(entry) for entry in e]\n",
    "    return [list(e), list(c)]\n",
    "    #return eigvals"
   ]
  },
  {
   "cell_type": "code",
   "execution_count": 8,
   "metadata": {},
   "outputs": [],
   "source": [
    "def TriangularGraph(n):\n",
    "    '''\n",
    "    Construction of triangular graph on n symbols\n",
    "    '''\n",
    "    s = range(1,n+1)\n",
    "    G = Graph()\n",
    "    for pair in combinations(s,2):\n",
    "        G.add_vertex(pair)\n",
    "    \n",
    "    for pair in combinations(G.vertices(),2):\n",
    "        v, w = pair\n",
    "        if len(set(v).intersection(set(w))) == 1:\n",
    "            G.add_edge(v,w)\n",
    "    return G"
   ]
  },
  {
   "cell_type": "code",
   "execution_count": 52,
   "metadata": {},
   "outputs": [],
   "source": [
    "#Examples"
   ]
  },
  {
   "cell_type": "code",
   "execution_count": 20,
   "metadata": {},
   "outputs": [],
   "source": [
    "X = [[],[1],[2],[3],[4],[1,2],[1,3],[2,3],[2,4],[3,4],[1,2,3],[2,3,4]]"
   ]
  },
  {
   "cell_type": "code",
   "execution_count": 38,
   "metadata": {
    "scrolled": false
   },
   "outputs": [
    {
     "data": {
      "text/plain": [
       "array([[ 1, -1,  1,  0,  0],\n",
       "       [ 0,  0,  1, -1,  1]])"
      ]
     },
     "execution_count": 38,
     "metadata": {},
     "output_type": "execute_result"
    }
   ],
   "source": [
    "coboundary(X,1)"
   ]
  },
  {
   "cell_type": "code",
   "execution_count": 41,
   "metadata": {},
   "outputs": [
    {
     "data": {
      "text/plain": [
       "array([[-1, -1,  0,  0,  0],\n",
       "       [ 1,  0, -1, -1,  0],\n",
       "       [ 0,  1,  1,  0, -1],\n",
       "       [ 0,  0,  0,  1,  1]])"
      ]
     },
     "execution_count": 41,
     "metadata": {},
     "output_type": "execute_result"
    }
   ],
   "source": [
    "boundary(X,1)"
   ]
  },
  {
   "cell_type": "code",
   "execution_count": 42,
   "metadata": {
    "scrolled": true
   },
   "outputs": [
    {
     "data": {
      "text/plain": [
       "array([[-1,  1,  0,  0],\n",
       "       [-1,  0,  1,  0],\n",
       "       [ 0, -1,  1,  0],\n",
       "       [ 0, -1,  0,  1],\n",
       "       [ 0,  0, -1,  1]])"
      ]
     },
     "execution_count": 42,
     "metadata": {},
     "output_type": "execute_result"
    }
   ],
   "source": [
    "coboundary(X,0)"
   ]
  },
  {
   "cell_type": "code",
   "execution_count": 46,
   "metadata": {},
   "outputs": [
    {
     "data": {
      "text/plain": [
       "<class 'NoneType'>"
      ]
     },
     "execution_count": 46,
     "metadata": {},
     "output_type": "execute_result"
    }
   ],
   "source": [
    "type(boundary(X,3))"
   ]
  },
  {
   "cell_type": "code",
   "execution_count": 49,
   "metadata": {},
   "outputs": [
    {
     "data": {
      "text/plain": [
       "[[0.0, 2.0, 4.0, 6.0], [5, 3, 3, 1]]"
      ]
     },
     "execution_count": 49,
     "metadata": {},
     "output_type": "execute_result"
    }
   ],
   "source": [
    "lu_spectrum(TriangularGraph(4),1)"
   ]
  },
  {
   "cell_type": "code",
   "execution_count": 50,
   "metadata": {},
   "outputs": [],
   "source": [
    "lu_spectrum(TriangularGraph(4),3)"
   ]
  },
  {
   "cell_type": "code",
   "execution_count": 54,
   "metadata": {},
   "outputs": [],
   "source": [
    "## Chang graphs\n",
    "# The adjacency matrices have been obtained from Mathematica"
   ]
  },
  {
   "cell_type": "code",
   "execution_count": 55,
   "metadata": {},
   "outputs": [],
   "source": [
    "Chang1 = '0 1 1 1 1 1 1 1 1 1 1 1 1 0 0 0 0 0 0 0 0 0 0 0 0 0 0 0 1 0 1 1 1 1 1 1 0 0 0 0 0 1 1 1 1 1 0 0 0 0 0 0 0 0 0 0 1 1 0 1 1 1 1 1 0 0 0 0 0 0 0 0 0 0 1 1 1 1 1 0 0 0 0 0 1 1 1 0 1 1 0 0 1 1 0 0 0 1 1 0 0 0 1 1 0 0 0 1 0 0 0 0 1 1 1 1 0 0 1 0 1 0 1 0 0 1 0 1 0 0 1 0 1 0 0 0 1 0 0 0 1 1 1 1 0 0 0 1 0 1 0 1 0 0 1 0 1 0 0 1 0 1 0 0 0 1 0 0 1 1 1 0 1 0 0 1 0 0 1 0 1 0 0 1 0 1 0 0 1 0 1 0 0 0 1 0 1 1 1 0 0 1 1 0 0 0 0 1 1 0 0 0 1 1 0 0 0 1 1 0 0 0 0 1 1 0 0 1 1 0 0 0 0 1 1 1 1 1 0 0 0 0 1 0 0 0 0 1 1 0 0 1 1 0 0 1 0 1 0 0 1 0 1 1 1 0 1 0 0 0 0 1 0 0 0 1 0 1 1 0 1 0 0 0 1 0 1 0 1 1 0 1 1 0 0 1 0 0 0 0 1 0 0 0 1 1 1 0 1 0 0 0 0 1 0 1 1 1 1 0 1 0 0 0 1 0 0 0 0 1 0 0 1 1 0 1 1 0 0 0 0 0 1 1 1 1 1 1 0 0 0 0 0 1 0 0 0 0 1 1 0 0 1 1 0 1 0 1 1 0 0 0 1 0 0 0 0 0 1 1 1 1 1 0 0 0 0 1 1 0 0 1 0 1 0 1 0 1 0 0 0 1 0 0 0 1 0 1 1 1 0 1 0 0 0 1 0 1 1 0 0 1 0 0 1 0 1 0 0 0 1 0 0 1 1 0 1 1 0 0 1 0 0 0 1 1 1 0 0 1 0 0 0 1 0 1 0 0 0 1 0 1 1 1 0 1 0 0 0 1 0 0 1 1 0 1 0 1 0 0 0 0 1 1 0 0 0 0 1 1 1 1 1 0 0 0 0 0 1 1 0 0 1 1 0 0 1 1 1 0 0 0 1 0 0 0 0 1 0 0 0 0 0 1 1 1 1 1 1 0 0 1 0 0 1 1 0 1 0 0 0 1 0 0 0 0 1 0 0 0 1 0 1 1 1 1 0 1 1 0 0 0 1 0 1 0 1 0 0 0 1 0 0 0 0 1 0 0 1 1 0 1 1 0 1 1 1 0 0 0 1 0 0 1 0 1 0 0 0 1 0 0 0 0 1 0 1 1 1 0 1 0 1 1 0 1 0 0 1 0 0 0 1 1 0 0 0 0 1 0 0 0 0 1 1 1 1 1 0 1 0 0 1 1 0 0 0 1 0 0 0 0 1 1 0 0 1 1 1 0 0 1 1 1 0 0 1 0 0 0 1 1 0 0 0 0 1 0 0 0 1 0 1 1 0 1 0 1 1 0 1 0 1 1 0 0 0 1 0 1 0 0 0 0 0 1 0 0 0 1 1 1 0 0 1 1 1 0 0 1 1 1 0 0 1 0 1 0 0 0 0 0 0 0 1 0 0 1 1 0 1 0 1 1 0 1 0 1 1 0 1 1 0 1 0 0 0 0 0 0 0 0 0 1 1 0 0 1 1 1 0 0 1 1 1 0 0 1 1 1 1 0 0 0'"
   ]
  },
  {
   "cell_type": "code",
   "execution_count": 56,
   "metadata": {},
   "outputs": [],
   "source": [
    "Chang2 = '0 1 1 1 1 1 1 1 1 1 1 1 1 0 0 0 0 0 0 0 0 0 0 0 0 0 0 0  1 0 1 1 1 1 1 1 0 0 0 0 0 1 1 1 1 1 0 0 0 0 0 0 0 0 0 0  1 1 0 1 1 1 1 0 1 0 0 0 0 1 0 0 0 0 1 1 1 1 0 0 0 0 0 0  1 1 1 0 1 1 1 0 0 1 0 0 0 0 1 0 0 0 1 0 0 0 1 1 1 0 0 0  1 1 1 1 0 1 0 1 0 0 1 0 0 0 0 1 0 0 1 1 0 0 1 0 0 1 0 0  1 1 1 1 1 0 0 1 0 0 0 1 0 0 0 0 1 0 1 0 1 0 0 1 0 0 1 0  1 1 1 1 0 0 0 0 1 1 0 0 1 1 1 0 0 1 0 0 0 1 0 0 1 0 0 0  1 1 0 0 1 1 0 0 0 0 1 1 1 0 0 1 1 1 0 0 0 0 0 0 0 1 1 0  1 0 1 0 0 0 1 0 0 1 1 1 1 1 0 0 0 0 0 1 1 1 0 0 0 0 0 1  1 0 0 1 0 0 1 0 1 0 1 1 1 0 1 0 0 0 0 0 0 0 1 1 1 0 0 1  1 0 0 0 1 0 0 1 1 1 0 1 1 0 0 1 0 0 0 1 0 0 1 0 0 1 0 1  1 0 0 0 0 1 0 1 1 1 1 0 1 0 0 0 1 0 0 0 1 0 0 1 0 0 1 1  1 0 0 0 0 0 1 1 1 1 1 1 0 0 0 0 0 1 0 0 0 1 0 0 1 1 1 0  0 1 1 0 0 0 1 0 1 0 0 0 0 0 1 1 1 1 0 1 1 1 0 0 0 0 0 1  0 1 0 1 0 0 1 0 0 1 0 0 0 1 0 1 1 1 0 0 0 0 1 1 1 0 0 1  0 1 0 0 1 0 0 1 0 0 1 0 0 1 1 0 1 1 0 1 0 0 1 0 0 1 0 1  0 1 0 0 0 1 0 1 0 0 0 1 0 1 1 1 0 1 0 0 1 0 0 1 0 0 1 1  0 1 0 0 0 0 1 1 0 0 0 0 1 1 1 1 1 0 0 0 0 1 0 0 1 1 1 0  0 0 1 1 1 1 0 0 0 0 0 0 0 0 0 0 0 0 0 1 1 1 1 1 1 1 1 0  0 0 1 0 1 0 0 0 1 0 1 0 0 1 0 1 0 0 1 0 1 1 1 0 0 1 0 1  0 0 1 0 0 1 0 0 1 0 0 1 0 1 0 0 1 0 1 1 0 1 0 1 0 0 1 1  0 0 1 0 0 0 1 0 1 0 0 0 1 1 0 0 0 1 1 1 1 0 0 0 1 1 1 0  0 0 0 1 1 0 0 0 0 1 1 0 0 0 1 1 0 0 1 1 0 0 0 1 1 1 0 1  0 0 0 1 0 1 0 0 0 1 0 1 0 0 1 0 1 0 1 0 1 0 1 0 1 0 1 1  0 0 0 1 0 0 1 0 0 1 0 0 1 0 1 0 0 1 1 0 0 1 1 1 0 1 1 0  0 0 0 0 1 0 0 1 0 0 1 0 1 0 0 1 0 1 1 1 0 1 1 0 1 0 1 0  0 0 0 0 0 1 0 1 0 0 0 1 1 0 0 0 1 1 1 0 1 1 0 1 1 1 0 0  0 0 0 0 0 0 0 0 1 1 1 1 0 1 1 1 1 0 0 1 1 0 1 1 0 0 0 0'"
   ]
  },
  {
   "cell_type": "code",
   "execution_count": 57,
   "metadata": {},
   "outputs": [],
   "source": [
    "Chang3 = '0 1 1 1 1 1 1 1 1 1 1 1 1 0 0 0 0 0 0 0 0 0 0 0 0 0 0 0 1 0 1 1 1 1 1 1 0 0 0 0 0 1 1 1 1 1 0 0 0 0 0 0 0 0 0 0 1 1 0 1 1 1 1 0 1 0 0 0 0 1 0 0 0 0 1 1 1 1 0 0 0 0 0 0 1 1 1 0 1 1 0 1 0 1 0 0 0 0 1 0 0 0 1 1 0 0 1 1 0 0 0 0 1 1 1 1 0 0 1 0 1 0 1 0 0 0 1 1 0 0 1 0 0 0 1 0 1 0 0 0 1 1 1 1 0 0 0 1 0 1 0 1 0 1 0 0 1 0 0 1 1 0 0 0 0 1 0 0 1 1 1 0 1 0 0 0 1 0 1 0 1 1 0 1 0 1 0 0 0 1 0 0 0 0 1 0 1 1 0 1 0 1 0 0 0 1 0 1 1 0 1 0 1 1 0 0 0 0 0 1 0 0 0 1 1 0 1 0 1 0 1 0 0 0 1 1 1 0 0 0 0 0 1 0 1 1 0 0 1 0 0 1 1 0 0 1 0 1 0 1 0 0 1 1 1 0 0 0 0 0 0 1 0 0 1 1 0 1 1 0 1 0 0 0 1 0 1 0 1 1 0 1 1 0 0 1 0 0 0 0 0 0 1 0 1 1 1 0 1 0 0 0 0 1 0 1 1 1 1 0 1 0 0 0 1 0 0 0 1 0 0 0 1 1 0 1 1 0 0 0 0 0 1 1 1 1 1 1 0 0 0 0 0 1 0 0 0 1 0 1 0 0 1 1 0 1 1 0 0 1 1 0 0 0 0 0 0 0 0 1 1 1 0 1 1 1 0 0 0 1 1 0 0 1 0 1 1 0 0 1 0 0 0 0 0 0 0 1 1 1 1 0 0 0 1 1 1 0 0 1 0 1 0 0 1 0 1 0 0 0 1 0 0 1 1 0 1 1 0 0 0 0 1 0 1 1 1 0 0 1 0 0 0 1 0 1 0 0 0 1 0 1 1 1 0 1 0 0 1 0 0 0 1 1 0 1 0 1 0 0 0 0 1 1 0 0 0 0 1 1 1 1 1 0 0 0 0 1 0 1 0 0 1 1 0 0 1 1 1 0 0 0 1 0 0 0 0 0 1 0 0 0 0 1 1 1 1 1 1 0 0 1 0 0 1 1 0 1 0 0 0 1 0 0 0 1 0 0 0 0 1 0 1 1 1 1 0 1 1 0 0 0 1 0 0 1 0 0 1 0 0 1 0 1 0 0 1 0 1 1 0 1 0 0 1 1 0 1 0 0 1 0 0 0 1 0 1 0 0 0 1 1 0 0 0 1 1 1 1 0 0 1 0 0 1 1 0 0 0 1 1 0 0 0 0 1 1 0 0 0 1 1 0 0 1 1 0 0 0 1 1 1 1 0 0 0 0 1 0 0 0 1 0 1 0 0 1 0 1 0 0 1 1 1 0 1 1 0 0 0 1 1 0 0 0 0 1 0 0 0 1 0 1 1 0 0 1 1 1 0 1 0 1 0 1 0 0 1 0 1 0 0 0 0 0 1 0 0 0 1 1 1 0 1 0 1 1 0 0 1 1 0 1 0 1 0 1 0 0 0 0 0 0 0 1 0 0 1 1 0 1 1 0 1 0 1 0 1 0 1 1 1 0 1 0 0 0 0 0 0 0 0 0 1 1 0 0 1 1 0 1 0 1 1 1 0 1 1 0 1 1 0 0 0'"
   ]
  },
  {
   "cell_type": "code",
   "execution_count": 58,
   "metadata": {},
   "outputs": [],
   "source": [
    "Chang1 = Chang1.replace('  ', ' ')\n",
    "Chang2 = Chang2.replace('  ', ' ')\n",
    "Chang3 = Chang3.replace('  ', ' ')"
   ]
  },
  {
   "cell_type": "code",
   "execution_count": 61,
   "metadata": {},
   "outputs": [
    {
     "data": {
      "text/plain": [
       "(1567, 1567, 1567)"
      ]
     },
     "execution_count": 61,
     "metadata": {},
     "output_type": "execute_result"
    }
   ],
   "source": [
    "len(Chang1), len(Chang2), len(Chang3)"
   ]
  },
  {
   "cell_type": "code",
   "execution_count": 67,
   "metadata": {},
   "outputs": [
    {
     "name": "stdout",
     "output_type": "stream",
     "text": [
      "L_1_up spectrum\n",
      "[ 0.0 , 27 ];[ 2.006 , 3 ];[ 2.431 , 10 ];[ 3.694 , 4 ];[ 3.76 , 3 ];[ 4.527 , 5 ];[ 5.382 , 6 ];[ 5.389 , 10 ];[ 5.537 , 5 ];[ 5.623 , 8 ];[ 6.726 , 8 ];[ 6.853 , 3 ];[ 7.618 , 6 ];[ 7.691 , 3 ];[ 8.0 , 8 ];[ 8.52 , 4 ];[ 8.935 , 5 ];[ 9.167 , 3 ];[ 9.359 , 10 ];[ 9.523 , 3 ];[ 9.651 , 8 ];[ 9.786 , 4 ];[ 9.821 , 10 ];[ 10.0 , 12 ];\n",
      "\n",
      "L_1_up spectrum\n",
      "[ 0.0 , 27 ];[ 2.188 , 8 ];[ 2.412 , 6 ];[ 2.703 , 3 ];[ 4.501 , 8 ];[ 5.0 , 8 ];[ 5.213 , 3 ];[ 5.438 , 6 ];[ 7.0 , 33 ];[ 7.398 , 6 ];[ 8.0 , 4 ];[ 8.762 , 8 ];[ 9.084 , 3 ];[ 9.19 , 6 ];[ 9.549 , 8 ];[ 9.562 , 6 ];[ 10.0 , 25 ];\n",
      "\n",
      "L_1_up spectrum\n",
      "[ 0.0 , 27 ];[ 2.0 , 1 ];[ 2.124 , 3 ];[ 2.271 , 4 ];[ 2.536 , 4 ];[ 3.172 , 1 ];[ 3.648 , 4 ];[ 3.895 , 3 ];[ 4.0 , 1 ];[ 4.438 , 3 ];[ 4.869 , 4 ];[ 5.0 , 2 ];[ 5.18 , 4 ];[ 5.335 , 4 ];[ 5.438 , 5 ];[ 5.559 , 3 ];[ 6.0 , 4 ];[ 6.078 , 4 ];[ 7.0 , 13 ];[ 7.452 , 4 ];[ 7.485 , 3 ];[ 7.648 , 4 ];[ 8.203 , 4 ];[ 8.562 , 3 ];[ 8.828 , 1 ];[ 8.88 , 4 ];[ 9.0 , 3 ];[ 9.258 , 3 ];[ 9.387 , 4 ];[ 9.464 , 4 ];[ 9.514 , 4 ];[ 9.562 , 5 ];[ 9.679 , 3 ];[ 9.758 , 4 ];[ 9.825 , 4 ];[ 9.953 , 4 ];[ 10.0 , 13 ];\n",
      "\n"
     ]
    }
   ],
   "source": [
    "for graph in [Chang1, Chang2, Chang3]:\n",
    "    graphstring = graph\n",
    "    graphstring = graphstring.replace(' ', '')\n",
    "    n, d = len(graphstring), int(np.sqrt(len(graphstring)))\n",
    "\n",
    "    M = []\n",
    "    for i in range(d):\n",
    "        s, row = graphstring[i*d:(i+1)*d], [0]*d\n",
    "        for j in range(d):\n",
    "            if s[j]=='1':\n",
    "                row[j]=1\n",
    "        M.append(row)\n",
    "\n",
    "    G = Graph(Matrix(M))\n",
    "    e, c = lu_spectrum(G,1)\n",
    "    print(\"L_1_up spectrum\")\n",
    "    for (ee, cc) in zip(e,c):\n",
    "        print('[',ee, ',', cc,']', end = ';')\n",
    "    print()\n",
    "    print()"
   ]
  },
  {
   "cell_type": "code",
   "execution_count": null,
   "metadata": {},
   "outputs": [],
   "source": []
  }
 ],
 "metadata": {
  "kernelspec": {
   "display_name": "SageMath 9.3",
   "language": "sage",
   "name": "sagemath"
  },
  "language_info": {
   "codemirror_mode": {
    "name": "ipython",
    "version": 3
   },
   "file_extension": ".py",
   "mimetype": "text/x-python",
   "name": "python",
   "nbconvert_exporter": "python",
   "pygments_lexer": "ipython3",
   "version": "3.7.10"
  }
 },
 "nbformat": 4,
 "nbformat_minor": 4
}
